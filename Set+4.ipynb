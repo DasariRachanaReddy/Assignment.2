{
 "cells": [
  {
   "cell_type": "code",
   "execution_count": 1,
   "id": "b3cfd9b5",
   "metadata": {
    "ExecuteTime": {
     "end_time": "2022-12-18T09:43:34.204545Z",
     "start_time": "2022-12-18T09:43:33.754986Z"
    }
   },
   "outputs": [],
   "source": [
    "import numpy as np\n",
    "from scipy import stats\n",
    "from scipy.stats import norm"
   ]
  },
  {
   "cell_type": "code",
   "execution_count": 3,
   "id": "f4b8c962",
   "metadata": {
    "ExecuteTime": {
     "end_time": "2022-12-18T09:47:24.642551Z",
     "start_time": "2022-12-18T09:47:24.626552Z"
    }
   },
   "outputs": [],
   "source": [
    "# For No investigation P(45<X<55)\n",
    " # For Investigation 1-P(45<X<55)  "
   ]
  },
  {
   "cell_type": "code",
   "execution_count": 4,
   "id": "688b5210",
   "metadata": {
    "ExecuteTime": {
     "end_time": "2022-12-18T09:47:42.949921Z",
     "start_time": "2022-12-18T09:47:42.926072Z"
    }
   },
   "outputs": [
    {
     "data": {
      "text/plain": [
       "1.25"
      ]
     },
     "execution_count": 4,
     "metadata": {},
     "output_type": "execute_result"
    }
   ],
   "source": [
    "# find z-scores at x=55; z=(s_mean-P_mean)/(p_SD/sqrt(n))\n",
    "\n",
    "z=(55-50)/(40/100**0.5)\n",
    "z"
   ]
  },
  {
   "cell_type": "code",
   "execution_count": 5,
   "id": "9955e24b",
   "metadata": {
    "ExecuteTime": {
     "end_time": "2022-12-18T09:48:08.743393Z",
     "start_time": "2022-12-18T09:48:08.711369Z"
    }
   },
   "outputs": [
    {
     "data": {
      "text/plain": [
       "0.7887004526662893"
      ]
     },
     "execution_count": 5,
     "metadata": {},
     "output_type": "execute_result"
    }
   ],
   "source": [
    " #For No investigation P(45<X<55) using z_scores = P(X<50)-P(X<45)\n",
    "\n",
    "stats.norm.cdf(1.25)-stats.norm.cdf(-1.25)"
   ]
  },
  {
   "cell_type": "code",
   "execution_count": 6,
   "id": "c73d829f",
   "metadata": {
    "ExecuteTime": {
     "end_time": "2022-12-18T09:48:33.610960Z",
     "start_time": "2022-12-18T09:48:33.586928Z"
    }
   },
   "outputs": [
    {
     "data": {
      "text/plain": [
       "(45.00000495667348, 54.99999504332652)"
      ]
     },
     "execution_count": 6,
     "metadata": {},
     "output_type": "execute_result"
    }
   ],
   "source": [
    "stats.norm.interval(0.7887,loc=50,scale=40/(100**0.5))"
   ]
  },
  {
   "cell_type": "code",
   "execution_count": 7,
   "id": "2e16cd2e",
   "metadata": {
    "ExecuteTime": {
     "end_time": "2022-12-18T09:48:51.451384Z",
     "start_time": "2022-12-18T09:48:51.427364Z"
    }
   },
   "outputs": [
    {
     "data": {
      "text/plain": [
       "0.21130000000000004"
      ]
     },
     "execution_count": 7,
     "metadata": {},
     "output_type": "execute_result"
    }
   ],
   "source": [
    "# For Investigation 1-P(45<X<55)\n",
    "\n",
    "1-0.7887"
   ]
  },
  {
   "cell_type": "code",
   "execution_count": null,
   "id": "3a84b5fb",
   "metadata": {},
   "outputs": [],
   "source": []
  }
 ],
 "metadata": {
  "kernelspec": {
   "display_name": "Python 3 (ipykernel)",
   "language": "python",
   "name": "python3"
  },
  "language_info": {
   "codemirror_mode": {
    "name": "ipython",
    "version": 3
   },
   "file_extension": ".py",
   "mimetype": "text/x-python",
   "name": "python",
   "nbconvert_exporter": "python",
   "pygments_lexer": "ipython3",
   "version": "3.9.13"
  }
 },
 "nbformat": 4,
 "nbformat_minor": 5
}
