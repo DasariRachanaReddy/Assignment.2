{
 "cells": [
  {
   "cell_type": "markdown",
   "id": "8a0cf431",
   "metadata": {},
   "source": [
    "Q1"
   ]
  },
  {
   "cell_type": "code",
   "execution_count": 1,
   "id": "3ae35349",
   "metadata": {
    "ExecuteTime": {
     "end_time": "2022-12-17T10:17:51.845163Z",
     "start_time": "2022-12-17T10:17:50.449525Z"
    }
   },
   "outputs": [],
   "source": [
    "from scipy import stats"
   ]
  },
  {
   "cell_type": "code",
   "execution_count": 2,
   "id": "352249fa",
   "metadata": {
    "ExecuteTime": {
     "end_time": "2022-12-17T10:18:29.696687Z",
     "start_time": "2022-12-17T10:18:29.656677Z"
    }
   },
   "outputs": [
    {
     "data": {
      "text/plain": [
       "0.7340144709512995"
      ]
     },
     "execution_count": 2,
     "metadata": {},
     "output_type": "execute_result"
    }
   ],
   "source": [
    "stats.norm.cdf(60,55,8)"
   ]
  },
  {
   "cell_type": "code",
   "execution_count": 3,
   "id": "c8b1579e",
   "metadata": {
    "ExecuteTime": {
     "end_time": "2022-12-17T10:18:46.149724Z",
     "start_time": "2022-12-17T10:18:46.133719Z"
    }
   },
   "outputs": [
    {
     "data": {
      "text/plain": [
       "0.26598552904870054"
      ]
     },
     "execution_count": 3,
     "metadata": {},
     "output_type": "execute_result"
    }
   ],
   "source": [
    "1-stats.norm.cdf(60,55,8)"
   ]
  },
  {
   "cell_type": "markdown",
   "id": "e9fcc758",
   "metadata": {},
   "source": [
    "Q2A"
   ]
  },
  {
   "cell_type": "code",
   "execution_count": 5,
   "id": "f924adce",
   "metadata": {
    "ExecuteTime": {
     "end_time": "2022-12-17T10:20:02.474089Z",
     "start_time": "2022-12-17T10:20:02.450084Z"
    }
   },
   "outputs": [
    {
     "data": {
      "text/plain": [
       "0.3413447460685429"
      ]
     },
     "execution_count": 5,
     "metadata": {},
     "output_type": "execute_result"
    }
   ],
   "source": [
    "stats.norm.cdf(44,38,6)-stats.norm.cdf(38,38,6)"
   ]
  },
  {
   "cell_type": "markdown",
   "id": "25d2e96c",
   "metadata": {},
   "source": [
    "Q2B"
   ]
  },
  {
   "cell_type": "code",
   "execution_count": 7,
   "id": "2f931d76",
   "metadata": {
    "ExecuteTime": {
     "end_time": "2022-12-17T10:21:09.546037Z",
     "start_time": "2022-12-17T10:21:09.522023Z"
    }
   },
   "outputs": [
    {
     "data": {
      "text/plain": [
       "36.484487890347154"
      ]
     },
     "execution_count": 7,
     "metadata": {},
     "output_type": "execute_result"
    }
   ],
   "source": [
    "stats.norm.cdf(30,38,6)*400"
   ]
  },
  {
   "cell_type": "markdown",
   "id": "c3baa023",
   "metadata": {
    "ExecuteTime": {
     "end_time": "2022-12-17T10:22:27.214147Z",
     "start_time": "2022-12-17T10:22:27.190141Z"
    }
   },
   "source": [
    "Q4"
   ]
  },
  {
   "cell_type": "code",
   "execution_count": 9,
   "id": "198b408e",
   "metadata": {
    "ExecuteTime": {
     "end_time": "2022-12-17T10:23:12.149710Z",
     "start_time": "2022-12-17T10:23:12.117690Z"
    }
   },
   "outputs": [
    {
     "data": {
      "text/plain": [
       "(48.48341392902199, 151.516586070978)"
      ]
     },
     "execution_count": 9,
     "metadata": {},
     "output_type": "execute_result"
    }
   ],
   "source": [
    "stats.norm.interval(0.99,100,20)"
   ]
  },
  {
   "cell_type": "markdown",
   "id": "f5c231c0",
   "metadata": {},
   "source": [
    "Q5"
   ]
  },
  {
   "cell_type": "code",
   "execution_count": 10,
   "id": "5b6d7769",
   "metadata": {
    "ExecuteTime": {
     "end_time": "2022-12-17T10:40:02.618246Z",
     "start_time": "2022-12-17T10:40:02.594242Z"
    }
   },
   "outputs": [
    {
     "data": {
      "text/plain": [
       "(99.00810347848784, 980.9918965215122)"
      ]
     },
     "execution_count": 10,
     "metadata": {},
     "output_type": "execute_result"
    }
   ],
   "source": [
    "stats.norm.interval(0.95,540,225)"
   ]
  },
  {
   "cell_type": "code",
   "execution_count": 11,
   "id": "a729f5e5",
   "metadata": {
    "ExecuteTime": {
     "end_time": "2022-12-17T10:45:17.776805Z",
     "start_time": "2022-12-17T10:45:17.752801Z"
    }
   },
   "outputs": [
    {
     "data": {
      "text/plain": [
       "0.0477903522728147"
      ]
     },
     "execution_count": 11,
     "metadata": {},
     "output_type": "execute_result"
    }
   ],
   "source": [
    "stats.norm.cdf(0,5,3)"
   ]
  },
  {
   "cell_type": "code",
   "execution_count": 12,
   "id": "be3f521c",
   "metadata": {
    "ExecuteTime": {
     "end_time": "2022-12-17T10:45:38.749315Z",
     "start_time": "2022-12-17T10:45:38.725290Z"
    }
   },
   "outputs": [
    {
     "data": {
      "text/plain": [
       "0.00048342414238377744"
      ]
     },
     "execution_count": 12,
     "metadata": {},
     "output_type": "execute_result"
    }
   ],
   "source": [
    "stats.norm.cdf(0.7,4)"
   ]
  },
  {
   "cell_type": "code",
   "execution_count": null,
   "id": "4ecb0e1d",
   "metadata": {},
   "outputs": [],
   "source": []
  }
 ],
 "metadata": {
  "kernelspec": {
   "display_name": "Python 3 (ipykernel)",
   "language": "python",
   "name": "python3"
  },
  "language_info": {
   "codemirror_mode": {
    "name": "ipython",
    "version": 3
   },
   "file_extension": ".py",
   "mimetype": "text/x-python",
   "name": "python",
   "nbconvert_exporter": "python",
   "pygments_lexer": "ipython3",
   "version": "3.9.13"
  }
 },
 "nbformat": 4,
 "nbformat_minor": 5
}
