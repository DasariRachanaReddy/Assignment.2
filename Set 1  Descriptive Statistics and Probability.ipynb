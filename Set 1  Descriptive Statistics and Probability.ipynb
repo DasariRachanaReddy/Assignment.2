{
 "cells": [
  {
   "cell_type": "markdown",
   "id": "746d1a3f",
   "metadata": {},
   "source": [
    "Q1"
   ]
  },
  {
   "cell_type": "code",
   "execution_count": 1,
   "id": "a1580a8b",
   "metadata": {
    "ExecuteTime": {
     "end_time": "2022-12-17T08:40:00.756811Z",
     "start_time": "2022-12-17T08:39:58.319358Z"
    }
   },
   "outputs": [],
   "source": [
    "import pandas as pd\n",
    "import numpy as np\n",
    "import matplotlib.pyplot as plt\n",
    "import seaborn as sns"
   ]
  },
  {
   "cell_type": "code",
   "execution_count": 3,
   "id": "197937f4",
   "metadata": {
    "ExecuteTime": {
     "end_time": "2022-12-17T08:41:43.448840Z",
     "start_time": "2022-12-17T08:41:43.435842Z"
    }
   },
   "outputs": [],
   "source": [
    "x=pd.Series([24.23,25.53,25.41,29.62,28.25,25.81,24.39,40.26,32.95,91.36,25.99,39.42,26.71,35.00])"
   ]
  },
  {
   "cell_type": "code",
   "execution_count": 13,
   "id": "d3219b6c",
   "metadata": {
    "ExecuteTime": {
     "end_time": "2022-12-17T08:52:40.725769Z",
     "start_time": "2022-12-17T08:52:40.712769Z"
    }
   },
   "outputs": [],
   "source": [
    "name=['Allied Signal','Bankers Trust','General Milk','ITT Industries','J.P.Morgan & Co','Lehman Brothers','Marriott','MCI','Merrill','Microsoft','Morgan Stanley','Sun Microsystems','Travelers','US Airways','Warner-Lambert']"
   ]
  },
  {
   "cell_type": "code",
   "execution_count": 9,
   "id": "fefa3873",
   "metadata": {
    "ExecuteTime": {
     "end_time": "2022-12-17T08:46:14.986482Z",
     "start_time": "2022-12-17T08:46:14.868675Z"
    }
   },
   "outputs": [
    {
     "data": {
      "image/png": "[encoded data removed]",
      "text/plain": [
       "<Figure size 640x480 with 1 Axes>"
      ]
     },
     "metadata": {},
     "output_type": "display_data"
    }
   ],
   "source": [
    "sns.boxplot(x)\n",
    "import warnings\n",
    "warnings.filterwarnings('ignore')"
   ]
  },
  {
   "cell_type": "code",
   "execution_count": 10,
   "id": "626d09e2",
   "metadata": {
    "ExecuteTime": {
     "end_time": "2022-12-17T08:46:40.217157Z",
     "start_time": "2022-12-17T08:46:40.198155Z"
    }
   },
   "outputs": [
    {
     "data": {
      "text/plain": [
       "33.92357142857143"
      ]
     },
     "execution_count": 10,
     "metadata": {},
     "output_type": "execute_result"
    }
   ],
   "source": [
    "x.mean()"
   ]
  },
  {
   "cell_type": "code",
   "execution_count": 11,
   "id": "39cecd6f",
   "metadata": {
    "ExecuteTime": {
     "end_time": "2022-12-17T08:46:47.626809Z",
     "start_time": "2022-12-17T08:46:47.610664Z"
    }
   },
   "outputs": [
    {
     "data": {
      "text/plain": [
       "302.3627324175824"
      ]
     },
     "execution_count": 11,
     "metadata": {},
     "output_type": "execute_result"
    }
   ],
   "source": [
    "x.var()"
   ]
  },
  {
   "cell_type": "code",
   "execution_count": 12,
   "id": "946b66da",
   "metadata": {
    "ExecuteTime": {
     "end_time": "2022-12-17T08:46:56.271883Z",
     "start_time": "2022-12-17T08:46:56.248884Z"
    }
   },
   "outputs": [
    {
     "data": {
      "text/plain": [
       "17.388580517615072"
      ]
     },
     "execution_count": 12,
     "metadata": {},
     "output_type": "execute_result"
    }
   ],
   "source": [
    "x.std()"
   ]
  },
  {
   "cell_type": "code",
   "execution_count": null,
   "id": "353d0255",
   "metadata": {},
   "outputs": [],
   "source": []
  }
 ],
 "metadata": {
  "kernelspec": {
   "display_name": "Python 3 (ipykernel)",
   "language": "python",
   "name": "python3"
  },
  "language_info": {
   "codemirror_mode": {
    "name": "ipython",
    "version": 3
   },
   "file_extension": ".py",
   "mimetype": "text/x-python",
   "name": "python",
   "nbconvert_exporter": "python",
   "pygments_lexer": "ipython3",
   "version": "3.9.13"
  }
 },
 "nbformat": 4,
 "nbformat_minor": 5
}
